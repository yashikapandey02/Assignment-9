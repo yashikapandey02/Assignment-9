{
 "cells": [
  {
   "cell_type": "code",
   "execution_count": null,
   "id": "7f64c925",
   "metadata": {},
   "outputs": [],
   "source": [
    "1. To what does a relative path refer?"
   ]
  },
  {
   "cell_type": "code",
   "execution_count": null,
   "id": "97c3860b",
   "metadata": {},
   "outputs": [],
   "source": [
    "Ans: to the current working directory"
   ]
  },
  {
   "cell_type": "code",
   "execution_count": null,
   "id": "703fcecd",
   "metadata": {},
   "outputs": [],
   "source": [
    "2. What does an absolute path start with your operating system?"
   ]
  },
  {
   "cell_type": "code",
   "execution_count": null,
   "id": "324b6a54",
   "metadata": {},
   "outputs": [],
   "source": [
    "Ans: Absolute paths start with the root folder, such as / or C:\\."
   ]
  },
  {
   "cell_type": "code",
   "execution_count": null,
   "id": "3a047b67",
   "metadata": {},
   "outputs": [],
   "source": [
    "3. What do the functions os.getcwd() and os.chdir() do?"
   ]
  },
  {
   "cell_type": "code",
   "execution_count": null,
   "id": "601570ba",
   "metadata": {},
   "outputs": [],
   "source": [
    "Ans: The os.getcwd() function returns the current working directory.\n",
    "     The os.chdir() function changes the current working directory."
   ]
  },
  {
   "cell_type": "code",
   "execution_count": null,
   "id": "7169e427",
   "metadata": {},
   "outputs": [],
   "source": [
    "4. What are the . and .. folders?"
   ]
  },
  {
   "cell_type": "code",
   "execution_count": null,
   "id": "1a125338",
   "metadata": {},
   "outputs": [],
   "source": [
    "Ans: The . folder is the current folder, and .. is the parent folder\n",
    "\n"
   ]
  },
  {
   "cell_type": "code",
   "execution_count": null,
   "id": "cb306334",
   "metadata": {},
   "outputs": [],
   "source": [
    "5. In C:\\bacon\\eggs\\spam.txt, which part is the dir name, and which part is the base name?"
   ]
  },
  {
   "cell_type": "code",
   "execution_count": null,
   "id": "cb5f91b8",
   "metadata": {},
   "outputs": [],
   "source": [
    "\n",
    "Ans: Here C:\\bacon\\eggs is the dir name, whereas spam.txt is the base name."
   ]
  },
  {
   "cell_type": "code",
   "execution_count": null,
   "id": "181e39e7",
   "metadata": {},
   "outputs": [],
   "source": [
    "6. What are the three “mode” arguments that can be passed to the open() function?"
   ]
  },
  {
   "cell_type": "code",
   "execution_count": null,
   "id": "b116f490",
   "metadata": {},
   "outputs": [],
   "source": [
    "Ans: String 'r' for read mode, \n",
    "     String 'w' for write mode,\n",
    "    String 'a' for append mode"
   ]
  },
  {
   "cell_type": "code",
   "execution_count": null,
   "id": "93e93c47",
   "metadata": {},
   "outputs": [],
   "source": [
    "7. What happens if an existing file is opened in write mode?"
   ]
  },
  {
   "cell_type": "code",
   "execution_count": null,
   "id": "368064d6",
   "metadata": {},
   "outputs": [],
   "source": [
    "Ans: An existing file opened in write mode is erased and completely overwritten"
   ]
  },
  {
   "cell_type": "code",
   "execution_count": null,
   "id": "2394815c",
   "metadata": {},
   "outputs": [],
   "source": [
    "8. How do you tell the difference between read() and readlines()?"
   ]
  },
  {
   "cell_type": "code",
   "execution_count": null,
   "id": "13ec8de3",
   "metadata": {},
   "outputs": [],
   "source": [
    "Ans: The read() method returns the file’s entire contents as a single string value. \n",
    "     The readlines() method returns a list of strings, where each string is a line from the file’s contents.\n",
    "\n"
   ]
  },
  {
   "cell_type": "code",
   "execution_count": null,
   "id": "d850c14a",
   "metadata": {},
   "outputs": [],
   "source": [
    "9. What data structure does a shelf value resemble?"
   ]
  },
  {
   "cell_type": "code",
   "execution_count": null,
   "id": "70e9abfd",
   "metadata": {},
   "outputs": [],
   "source": [
    "Ans: A shelf value resembles a dictionary value; it has keys and values, along with keys() and values() \n",
    "    methods that work similarly to the dictionary methods of the same names\n",
    "\n"
   ]
  }
 ],
 "metadata": {
  "kernelspec": {
   "display_name": "Python 3 (ipykernel)",
   "language": "python",
   "name": "python3"
  },
  "language_info": {
   "codemirror_mode": {
    "name": "ipython",
    "version": 3
   },
   "file_extension": ".py",
   "mimetype": "text/x-python",
   "name": "python",
   "nbconvert_exporter": "python",
   "pygments_lexer": "ipython3",
   "version": "3.9.7"
  }
 },
 "nbformat": 4,
 "nbformat_minor": 5
}
